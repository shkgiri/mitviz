{
 "cells": [
  {
   "cell_type": "code",
   "execution_count": 2,
   "metadata": {},
   "outputs": [
    {
     "name": "stdout",
     "output_type": "stream",
     "text": [
      "Warning: When  cdn_resources is 'local' jupyter notebook has issues displaying graphics on chrome/safari. Use cdn_resources='in_line' or cdn_resources='remote' if you have issues viewing graphics in a notebook.\n",
      "Graph saved to example_graph.html. Open it in a browser to view.\n"
     ]
    },
    {
     "name": "stderr",
     "output_type": "stream",
     "text": [
      "Bad pipe message: %s [b'svg+xml,image/*,*/*;q=0.8\\r\\nHost: localhost:39183\\r\\nUser-Agent: Mozilla/5.0 (Macintosh; Intel Mac OS X', b'0_15_7) AppleWebKit/537.36 (KHT', b', like Gecko) Chrome/127.0.0.0 Safari/537.36\\r\\nAccept-Encoding: gzip, deflate']\n",
      "Bad pipe message: %s [b'br, zstd\\r\\nAccept-Language: en-US,en;q=0.9\\r\\n']\n",
      "Bad pipe message: %s [b'ferer: https://legendary-potato-wrqpj766j7rc9jwx-39183.app.github.dev/\\r\\nX-Request', b'D: 0ccc61adc63dfe7de4afdc2479af1204\\r\\nX-Real-', b': 10.240.2.23\\r\\nX-Forwarded-Port: 443\\r\\nX-Forwarded-Scheme: https\\r\\nX-Origi']\n",
      "Bad pipe message: %s [b'l-URI: /favicon.ico\\r\\nX-Scheme: https\\r\\nsec-ch-ua: \"Not)A;Brand\";v=\"99\", \"Google Chrome\";v=\"127\", \"Chromium\";v=', b'27\"\\r\\nsec-ch-ua-mobile: ?0\\r\\nsec-ch', b'a-platform: \"macOS\"\\r\\nsec-fetch-site: same-or', b'in\\r\\nsec-fetch-mode: no-cors\\r\\nsec-fetch-dest: image\\r\\npriority: u=1, i\\r\\nX-Original-Proto: https\\r\\nX-Forward', b'-Proto: https\\r\\nX-Forwarded-Host: legendary-potato-wrqpj766j7rc9jwx-39183.app.github.dev\\r\\nX-Forwarded']\n",
      "Bad pipe message: %s [b'or: 10.240.2.23\\r\\nProxy-Connection: Keep-Aliv']\n",
      "Bad pipe message: %s [b'0.9,image/avif,image/webp,image/apng,*/*;q=0.8,application/signed-exchange;v=b3;q=0.7\\r\\nHost: localhost:39183\\r\\nUs', b'-Agent: Mozilla/5.0 (Macintosh; Intel Mac OS X 10_15_7) AppleWebKit/537.36 (KHTML, like Gecko) Chrom']\n",
      "Bad pipe message: %s [b'127.0.0.0 Safari/537.36\\r\\nAccept-Encoding: gzip, deflate, br, zstd\\r\\nAccept-Language: en-US,en;q=0.9\\r\\n', b'che-Control: max-age=0\\r\\nReferer: https://legendary-potato-wrqpj766', b'rc9jwx-39183.app.github.dev/\\r\\nX-Request-ID: 1716d39834210bb257a5747704b66287\\r\\nX-Real-IP: 10.240.2.23\\r\\nX-F', b'warded-Port: 443\\r\\nX-Forwarded-Scheme: https\\r\\nX-Original-URI: /\\r\\nX-Scheme: https\\r\\nsec-ch-ua: \"Not)A;Brand\";v=\"9']\n",
      "Bad pipe message: %s [b', \"Google Chrome\";v=\"127\", \"Chromium\";v=\"127\"\\r\\nsec-ch-ua']\n",
      "Bad pipe message: %s [b'obile: ?0\\r\\nsec-ch-ua-platform: \"macOS\"\\r\\nsec-', b'tch-site: same-origin\\r\\nsec-fetch-mode: navigate\\r\\nsec-fetch-user: ?1\\r\\nsec-fetch-dest: document\\r\\npriori', b': u=0, i\\r\\nX-Original-Proto: https\\r\\nX-Forwarded-Proto: https\\r\\nX-Forwarded-Host: legendary-potato-wrqpj766j7rc9jwx-39', b'3.app.github.dev\\r\\nX-Forwarded-For: 10.240.2.23\\r\\n']\n",
      "Bad pipe message: %s [b'tion/xhtml+xml,application/xml;q=0.9,image/avif,image/webp,image/apng,*/*;q=0.8,application/signed', b'xchange;v=b3;q=0.7\\r\\nHost: localhost:39183\\r\\nU', b'r-Agent: Mozilla/5.0 (Macintosh; Intel Mac OS X 10_15_7) AppleWebKit/537.36 (KHTML, like Gecko) Chrome/127.0.0.0 S', b'ari/537.36\\r\\nAccept-Encoding: gzip, deflate, br, zstd\\r\\nAccept-Language: en-US,en;q=0.9\\r\\nReferer: ']\n",
      "Bad pipe message: %s [b'tps://1h29hvjiti7r8o7tm233bsgopfnvb4nvikmsvh97481q39hjiuvf.assets.github.dev/\\r\\nX-Request-ID: 6c4b381663']\n",
      "Bad pipe message: %s [b'b45d8e0ccb80364ef572\\r\\nX-Real-IP: 10.240.2.23\\r\\nX-Forwarded-Port: 443\\r\\nX-Forwarded-Scheme: https\\r\\nX-O', b'ginal-URI: /?vscodeBrowserReqId=1736767401139\\r\\nX-Scheme: https\\r\\nsec-ch-ua: \"Not)A;Brand\";v=\"99\", \"Google Chrome\";', b'\"127\", \"Chromium\";v=\"127\"\\r\\nsec-ch-ua-mobile: ?0\\r\\nsec-ch-ua-platform: \"macOS\"\\r\\nsec-fetch-site: same-site\\r\\nsec-fetch-mo', b': navigate\\r\\nsec-fetch-dest: iframe\\r\\npriority: u=0, i\\r\\nX-Original-Proto: https\\r\\nX-Forwarded-Proto: h', b'ps\\r\\nX-Forwarded-Host: legendary-potato-wrqpj766j7rc9jwx-39183.app.github.dev\\r\\nX-Forwarded-For: 10.240.2.23\\r\\nProxy-C']\n",
      "Bad pipe message: %s [b'tion/xhtml+xml,application/xml;q=0.9,image/avif,image/webp,image/apng,*/*;q=0.8,application/signed', b'xchange;v=b3;q=0.7\\r\\nHost: localhost:39183\\r\\nU', b'r-Agent: Mozilla/5.0 (Macintosh; Intel Mac OS X 10_15_7) AppleWebKit/537.36 (KHTML, like Gecko) Chrome/127.0.0.0 S', b'ari/537.36\\r\\nAccept-Encoding: gzip, deflate, br, zstd\\r\\nAccept-Language: en-US,en;q=0.9\\r\\nReferer: ']\n",
      "Bad pipe message: %s [b'tps://1h29hvjiti7r8o7tm233bsgopfnvb4nvikmsvh97481q39hjiuvf.assets.github.dev/\\r\\nX-Request-ID: 524988a5bd']\n",
      "Bad pipe message: %s [b'f68128e2f3958a2bc025\\r\\nX-Real-IP: 10.240.2.23\\r\\nX']\n",
      "Bad pipe message: %s [b'orwarded-Port: 443\\r\\nX-Forwarded-Scheme: http']\n",
      "Bad pipe message: %s [b'\\nX-Original-URI: /?vscodeBrowserReqId=1736767407293\\r\\nX-Scheme: https\\r\\nsec-ch-ua: \"Not)A;Brand\";v=\"99\", \"Google Chr', b'e\";v=\"127\", \"Chromium\";v=\"127\"\\r\\nsec-ch-ua-mobile: ?0\\r\\nsec-ch-ua-platform: \"macOS\"\\r\\nsec-fetch-site: same-site\\r\\n', b'c-fetch-mode: navigate\\r\\nsec-fetch-user: ?1\\r\\nsec-fetch-dest: iframe\\r\\npriority: u=0, i\\r\\nX-Original-Proto: https\\r\\nX-F', b'warded-Proto: https\\r\\nX-Forwarded-Host: legendary-potato-wrqpj766j7rc9jwx-39183.app.github.dev\\r\\nX-Forwarded-For']\n",
      "Bad pipe message: %s [b'0.9,image/avif,image/webp,image/apng,*/*;q=0.8,application/signed-exchange;v=b3;q=0.7\\r\\nHost: localhost:39183\\r\\nUs', b'-Agent: Mozilla/5.0 (Macintosh; Intel Mac OS X 10_15_7) AppleWebKit/537.36 (KHTML, like Gecko) Chrom']\n",
      "Bad pipe message: %s [b'127.0.0.0 Safari/537.36\\r\\nAccept-Encoding: gzip, deflate, br, zstd\\r\\nAccept-Language: en-US,en;q=0.9\\r\\n', b'ferer: https://legendary-potato-wrqpj766j7rc9jwx.github.dev/\\r\\nX-Request-ID: d69d3', b'ff5ac61cd379a494790ebae60\\r\\nX-Real-IP: 10.240.2.23\\r\\nX-Forwarded-Port: 443\\r\\nX-Forwarded-Scheme: ht', b's\\r\\nX-Original-URI: /\\r\\nX-Scheme: https\\r\\nsec-ch-ua: \"Not)A;Brand\";v=\"99\", \"Google Chrome\";v=\"127\", \"Chromium\";v=\"127\"']\n",
      "Bad pipe message: %s [b'sec-ch-ua-mo']\n",
      "Bad pipe message: %s [b'le: ?0\\r\\nsec-ch-ua-platform: \"macOS\"\\r\\nsec-fetch-site: same-site\\r\\nsec-fetch-mode: navigate\\r\\nsec-fet', b'-user: ?1\\r\\nsec-fetch-dest: document\\r\\npriority: u=0, i\\r\\nX-Original-Proto: https\\r\\nX-Forwarded-Proto:']\n",
      "Bad pipe message: %s [b'ttps\\r\\nX-Forwarded-Host: legenda']\n",
      "Bad pipe message: %s [b' text/html,application/xhtml+xml,application/xml;q=0.9,image/avif,image/webp,image/apng,*/*;q=0.8,application/signe']\n",
      "Bad pipe message: %s [b'exchange;v=b3;q=0.7\\r\\nHost: localhost:39183\\r\\nUser-Agent: Mozilla/5.0 (Macintosh; Intel Mac OS X 10_1', b'7) AppleWebKit/537.36 (KHTML, like Gecko) Chrome/127', b'.0.0 Safari/537.36\\r\\nAccept-Encoding: gzip, de']\n",
      "Bad pipe message: %s [b'ate, br, zstd\\r\\nAccept-Language: en-US,en;q=0.9\\r\\nReferer: https://1h29hvjiti7r8o7tm233bsgopfnvb4nvikms']\n",
      "Bad pipe message: %s [b'97481q39hjiuvf.assets.github.dev/\\r\\nX-Request-ID: 6ffd2c6b60f7b3faa07429e0e9c01cc4\\r\\nX-Real-IP: 10.240.2.23\\r\\nX-Forwarde']\n",
      "Bad pipe message: %s [b'Port: 443\\r\\nX-Forwarded-Scheme: https\\r\\nX-Original-URI: /example_graph.html?vscodeBrowserReqId=173676', b'29444\\r\\nX-Scheme: https\\r\\nsec-ch-ua: \"Not)A;Brand\";v=\"99']\n",
      "Bad pipe message: %s [b' \"Google Chrome\";v=\"127\", \"Chromi']\n",
      "Bad pipe message: %s [b'\";v=\"127\"\\r\\nsec-ch-ua-mobile: ?0\\r\\nsec-ch-ua-platform: \"macOS\"\\r\\nsec-fetch-site: same-site\\r\\nsec-fetch-mode: navigate\\r\\ns', b'-fetch-user: ?1\\r\\nsec-fetch-dest: iframe\\r\\npriority: u=0, i\\r\\nX-Original-Proto: https\\r\\nX-Forwarded-Prot', b' https\\r\\nX-Forwarded-Host: legendary-potato-wrqpj766j7rc9jwx-39183.app.github.dev\\r\\nX-Forwarded-For: 10.240.2.23']\n",
      "Bad pipe message: %s [b'Proxy-Connec']\n",
      "Bad pipe message: %s [b' text/html,application/xhtml+xml,application/xml;q=0.9,image/avif,image/webp,image/apng,*/*;q=0.8,application/signe']\n",
      "Bad pipe message: %s [b'exchange;v=b3;q=0.7\\r\\nHost: localhost:39183\\r\\nUser-Agent: Mozilla/5.0 (Macintosh; Intel Mac OS X 10_1', b'7) AppleWebKit/537.36 (KHTML, like Gecko) Chrome/127', b'.0.0 Safari/537.36\\r\\nAccept-Encoding: gzip, de']\n",
      "Bad pipe message: %s [b'ate, br, zstd\\r\\nAccept-Language: en-US,en;q=0.9\\r\\nReferer: https://1h29hvjiti7r8o7tm233bsgopfnvb4nvikms']\n",
      "Bad pipe message: %s [b'97481q39hjiuvf.assets.github.dev/\\r\\nX-Request-ID: 7d5798f1f3c5fe0da88e711588dd6c06\\r\\nX-Real-IP: 10.240.2.23\\r\\nX-Forwarde']\n",
      "Bad pipe message: %s [b'Port: 443\\r\\nX-Forwarded-Scheme: https\\r\\nX-Original-URI: /example_graph.html?vscodeBrowserReqId=173676', b'32875\\r\\nX-Scheme: https\\r\\nsec-ch-ua: \"Not)A;Brand\";v=\"99']\n",
      "Bad pipe message: %s [b' \"Google Chrome\";v=\"127\", \"Chromi']\n",
      "Bad pipe message: %s [b'\";v=\"127\"\\r\\nsec-ch-ua-mobile: ?0\\r\\nsec-ch-ua-platform: \"macOS\"\\r\\nsec-fetch-site: same-site\\r\\nsec-fetch-mode: navigate\\r\\ns', b'-fetch-user: ?1\\r\\nsec-fetch-dest: iframe\\r\\npriority: u=0, i\\r\\nX-Original-Proto: https\\r\\nX-Forwarded-Prot', b' https\\r\\nX-Forwarded-Host: legendary-potato-wrqpj766j7rc9jwx-39183.app.github.dev\\r\\nX-Forwarded-For: 10.240.2.23']\n",
      "Bad pipe message: %s [b'Proxy-Connec']\n",
      "Bad pipe message: %s [b'tion/xhtml+xml,application/xml;q=0.9,image/avif,image/webp,image/apng,*/*;q=0.8,application/signed', b'xchange;v=b3;q=0.7\\r\\nHost: localhost:39183\\r\\nU', b'r-Agent: Mozilla/5.0 (Macintosh; Intel Mac OS X 10_15_7) AppleWebKit/537.36 (KHTML, like Gecko) Chrome/127.0.0.0 S', b'ari/537.36\\r\\nAccept-Encoding: gzip, deflate, br, zstd\\r\\nAccept-Language: en-US,en;q=0.9\\r\\nReferer: ']\n",
      "Bad pipe message: %s [b'tps://1h29hvjiti7r8o7tm233bsgopfnvb4nvikmsvh97481q39hjiuvf.assets.github.dev/\\r\\nX-Request-ID: f1dd226776']\n",
      "Bad pipe message: %s [b'ebe3f0593f2f829deb16\\r\\nX-Real-IP: 10.240.2.23\\r\\nX-Forw', b'ded-Port: 443\\r\\nX-Forwarded-Scheme: https\\r\\nX-Original-URI: /?vscodeBrowserReqId=1736767473960\\r\\nX-']\n",
      "Bad pipe message: %s [b'0.9,image/avif,image/webp,image/apng,*/*;q=0.8,application/signed-exchange;v=b3;q=0.7\\r\\nHost: localhost:39183\\r\\nUs', b'-Agent: Mozilla/5.0 (Macintosh; Intel Mac OS X 10_15_7) AppleWebKit/537.36 (KHTML, like Gecko) Chrom']\n",
      "Bad pipe message: %s [b'127.0.0.0 Safari/537.36\\r\\nAccept-Encoding: gzip, deflate, br, zstd\\r\\nAccept-Language: en-US,en;q=0.9\\r\\n', b'ferer: https://legendary-potato-wrqpj766j7rc9jwx.github.dev/\\r\\nX-Request-ID: 467c8', b'0a0218294b115d77b2a62e8c6\\r\\nX-Real-IP: 10.240.2.']\n",
      "Bad pipe message: %s [b'\\r\\nX-Forwarded-Port: 443\\r\\nX-Forwarded-Scheme: http', b'\\nX-Original-URI: /\\r\\nX-Scheme: https\\r\\nsec-ch-ua: \"Not)A;Brand\";v=\"99\", \"Google Chrome\";v=\"127\", \"Chromium\";v=\"127\"\\r', b'ec-ch-ua-', b'bile: ?0\\r\\nsec-ch-ua-platform: \"macOS\"\\r\\nsec-fetch-site: same-site\\r\\nsec-fetch-mode: navigate\\r\\nsec-fetch-user: ', b'\\r\\nsec-fetch-dest: document\\r\\npriority: u=0, i\\r\\nX-Original-Proto', b'https\\r\\nX-Forwarded-Proto: https\\r\\nX-Forwarded-Host: legend']\n",
      "Bad pipe message: %s [b'y-potato-wrqpj766j7rc9jwx-39183.app.github.dev\\r\\nX-Forwarded-For: 10.240.2.23\\r\\nProxy-Connection: ']\n"
     ]
    }
   ],
   "source": [
    "from pyvis.network import Network\n",
    "\n",
    "# Create a new network graph\n",
    "net = Network(notebook=True, directed=True)\n",
    "\n",
    "# Define nodes and their relationships\n",
    "# A --> B\n",
    "net.add_node(\"A\", label=\"A\")\n",
    "net.add_node(\"B\", label=\"B\")\n",
    "net.add_edge(\"A\", \"B\")\n",
    "\n",
    "# C --> D\n",
    "net.add_node(\"C\", label=\"C\")\n",
    "net.add_node(\"D\", label=\"D\")\n",
    "net.add_edge(\"C\", \"D\")\n",
    "\n",
    "# Add attributes to nodes\n",
    "# B has 1, 2\n",
    "net.add_node(\"1\", label=\"1\", color=\"green\")\n",
    "net.add_node(\"2\", label=\"2\", color=\"green\")\n",
    "net.add_edge(\"B\", \"1\")\n",
    "net.add_edge(\"B\", \"2\")\n",
    "\n",
    "# D has 2, 3, 4\n",
    "net.add_node(\"3\", label=\"3\", color=\"blue\")\n",
    "net.add_node(\"4\", label=\"4\", color=\"blue\")\n",
    "net.add_edge(\"D\", \"2\")\n",
    "net.add_edge(\"D\", \"3\")\n",
    "net.add_edge(\"D\", \"4\")\n",
    "\n",
    "# Customize the graph's appearance\n",
    "net.toggle_physics(True)  # Enable physics for better visualization\n",
    "\n",
    "# Save and display the graph\n",
    "output_file = \"example_graph.html\"\n",
    "net.save_graph(output_file)\n",
    "print(f\"Graph saved to {output_file}. Open it in a browser to view.\")\n"
   ]
  }
 ],
 "metadata": {
  "kernelspec": {
   "display_name": "Python 3",
   "language": "python",
   "name": "python3"
  },
  "language_info": {
   "codemirror_mode": {
    "name": "ipython",
    "version": 3
   },
   "file_extension": ".py",
   "mimetype": "text/x-python",
   "name": "python",
   "nbconvert_exporter": "python",
   "pygments_lexer": "ipython3",
   "version": "3.12.1"
  }
 },
 "nbformat": 4,
 "nbformat_minor": 2
}
